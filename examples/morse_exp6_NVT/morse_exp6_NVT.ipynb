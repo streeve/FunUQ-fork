{
 "cells": [
  {
   "cell_type": "markdown",
   "metadata": {},
   "source": [
    "# FunUQ for MD\n",
    "## Sam Reeve and Alejandro Strachan\n",
    "### Replication of: Reeve, S. T. & Strachan, A. Quantifying uncertainties originating from interatomic potentials in molecular dynamics. (Submitted to Modell. Simul. Mater. Sci. Eng. 2018).\n",
    "### NVT Morse / Exponential-6 at 1500K and 1 atom (NOT pre-run simulations)\n",
    "\n",
    "#### This notebook goes through all steps of functional uncertainty quantification FunUQ for interatomic potential in molecular dynamics, matching one case from the paper. The main steps are: \n",
    " * Define folders, simulation system, and models\n",
    " * (Run simulations)\n",
    " * Calculate functional derivatives\n",
    " * Calculate correction for quantities of interest due to changing from one function to another"
   ]
  },
  {
   "cell_type": "code",
   "execution_count": null,
   "metadata": {},
   "outputs": [],
   "source": [
    "import sys, os, numpy as np\n",
    "# Relative path from notebook to module\n",
    "sys.path.insert(0, '../../lib/')\n",
    "sys.path.insert(0, '../../lib/FunUQ/')"
   ]
  },
  {
   "cell_type": "code",
   "execution_count": null,
   "metadata": {},
   "outputs": [],
   "source": [
    "# Import FunUQ module\n",
    "from FunUQ import *\n",
    "\n",
    "# Provides access to nanoHUB simulation codes (LAMMPS)\n",
    "from hublib import use\n",
    "\n",
    "# Utility functions (Austin Zadoks)\n",
    "from nH_utils import *"
   ]
  },
  {
   "cell_type": "code",
   "execution_count": null,
   "metadata": {},
   "outputs": [],
   "source": [
    "% use lammps-09Dec14\n",
    "% matplotlib notebook"
   ]
  },
  {
   "cell_type": "code",
   "execution_count": null,
   "metadata": {},
   "outputs": [],
   "source": [
    "# \"True\" will run new simulations below\n",
    "# Change after first usage to only analyze results\n",
    "run_main = True\n",
    "run_verify = True\n",
    "run_perturb = False\n",
    "run_bruteforce = False"
   ]
  },
  {
   "cell_type": "markdown",
   "metadata": {},
   "source": [
    "## System setup: define interatomic potentials and quantities of interest"
   ]
  },
  {
   "cell_type": "code",
   "execution_count": null,
   "metadata": {},
   "outputs": [],
   "source": [
    "rundir = os.getcwd()\n",
    "startdir = os.path.abspath(os.path.join(rundir, 'init/'))\n",
    "\n",
    "mainname = 'main' # morse\n",
    "correctname = 'exp6'"
   ]
  },
  {
   "cell_type": "code",
   "execution_count": null,
   "metadata": {},
   "outputs": [],
   "source": [
    "Pot_main = Potential('morse', paramdir=startdir, create=True, N=7000, rmax=7.0, cut=6.0)\n",
    "Pot_correct = Potential('exp6', paramdir=startdir, create=True, N=7000, rmax=7.0, cut=6.0)"
   ]
  },
  {
   "cell_type": "code",
   "execution_count": null,
   "metadata": {
    "scrolled": false
   },
   "outputs": [],
   "source": [
    "ax1 = Pot_main.plot()\n",
    "ax1 = Pot_correct.plot(ax=ax1, color='red')"
   ]
  },
  {
   "cell_type": "code",
   "execution_count": null,
   "metadata": {},
   "outputs": [],
   "source": [
    "QoI_list = ['PotEng', 'Press']\n",
    "Nqoi = len(QoI_list)\n",
    "QoI_dict = {'description': 'Replication of Reeve and Strachan, (Submitted 2018)',\n",
    "            'Ncopies': 2,\n",
    "            'units': ['eV/atom', 'GPa'],\n",
    "            #'overwrite': True, \n",
    "           }"
   ]
  },
  {
   "cell_type": "code",
   "execution_count": null,
   "metadata": {},
   "outputs": [],
   "source": [
    "QoI = QuantitiesOfInterest(QoI_list, Pot_main,\n",
    "                           startdir, rundir, mainname, 'metal',\n",
    "                           input_dict=QoI_dict)\n",
    "QoI_correct = QuantitiesOfInterest(QoI_list, Pot_correct,\n",
    "                                   startdir, rundir, correctname, 'metal',\n",
    "                                   input_dict=QoI_dict)"
   ]
  },
  {
   "cell_type": "markdown",
   "metadata": {},
   "source": [
    "## Run simulations or extract results"
   ]
  },
  {
   "cell_type": "code",
   "execution_count": null,
   "metadata": {},
   "outputs": [],
   "source": [
    "if run_main:\n",
    "    QoI.run_lammps(mode='nanoHUB_submit') # 'nanoHUB_local'\n",
    "if run_verify:\n",
    "    QoI_correct.run_lammps(mode='nanoHUB_submit')"
   ]
  },
  {
   "cell_type": "code",
   "execution_count": null,
   "metadata": {
    "scrolled": false
   },
   "outputs": [],
   "source": [
    "submit_status()\n",
    "#kill_jobs('') # Use RunName\n",
    "#kill_all_jobs()\n",
    "local_status(rundir, [mainname, correctname])"
   ]
  },
  {
   "cell_type": "code",
   "execution_count": null,
   "metadata": {},
   "outputs": [],
   "source": [
    "QoI.extract_lammps()\n",
    "QoI_correct.extract_lammps()\n",
    "print(QoI); print(QoI_correct)"
   ]
  },
  {
   "cell_type": "markdown",
   "metadata": {},
   "source": [
    "## Calculate functional derivatives"
   ]
  },
  {
   "cell_type": "code",
   "execution_count": null,
   "metadata": {},
   "outputs": [],
   "source": [
    "FD_dict = {'alist': [-1e-8, -2e-8, 1e-8, 2e-8],\n",
    "          }"
   ]
  },
  {
   "cell_type": "code",
   "execution_count": null,
   "metadata": {},
   "outputs": [],
   "source": [
    "FuncDer = FuncDer_perturb_coord(QoI, Pot_main,\n",
    "                                 input_dict=FD_dict)"
   ]
  },
  {
   "cell_type": "code",
   "execution_count": null,
   "metadata": {},
   "outputs": [],
   "source": [
    "if run_bruteforce and FuncDer.method == 'bruteforce':\n",
    "    FuncDer.run_lammps()\n",
    "elif run_perturb and FuncDer.method == 'perturbative_allatom':\n",
    "    FuncDer.rerun_gauss()"
   ]
  },
  {
   "cell_type": "code",
   "execution_count": null,
   "metadata": {
    "scrolled": false
   },
   "outputs": [],
   "source": [
    "FuncDer.prepare_FD()\n",
    "FuncDer.calc_FD()\n",
    "for x in range(Nqoi):\n",
    "    FuncDer.write_FD(x)\n",
    "    FuncDer.plot_FD(x)"
   ]
  },
  {
   "cell_type": "code",
   "execution_count": null,
   "metadata": {},
   "outputs": [],
   "source": [
    "FuncDer.plot_perturb(0)"
   ]
  },
  {
   "cell_type": "markdown",
   "metadata": {},
   "source": [
    "## Correct quantities of interest"
   ]
  },
  {
   "cell_type": "code",
   "execution_count": null,
   "metadata": {},
   "outputs": [],
   "source": [
    "Correct = FunUQ(Pot_main, Pot_correct, QoI.Q_names, QoI.Qavg, QoI_correct.Qavg, \n",
    "                Q_units=QoI.units, FD=FuncDer.funcder, R=FuncDer.rlist)"
   ]
  },
  {
   "cell_type": "markdown",
   "metadata": {},
   "source": [
    "#### Compare this plot to similar case in Reeve & Strachan 2018, Figure 3"
   ]
  },
  {
   "cell_type": "code",
   "execution_count": null,
   "metadata": {
    "scrolled": false
   },
   "outputs": [],
   "source": [
    "Correct.discrepancy()\n",
    "Correct.plot_discrep()"
   ]
  },
  {
   "cell_type": "code",
   "execution_count": null,
   "metadata": {
    "scrolled": true
   },
   "outputs": [],
   "source": [
    "Correct.correct()"
   ]
  },
  {
   "cell_type": "markdown",
   "metadata": {},
   "source": [
    "#### Compare this plot to similar case in Reeve & Strachan 2018, Figure 3"
   ]
  },
  {
   "cell_type": "code",
   "execution_count": null,
   "metadata": {
    "scrolled": false
   },
   "outputs": [],
   "source": [
    "for x in range(Nqoi):\n",
    "    Correct.plot_funcerr(x)\n",
    "    Correct.plot_correction(x)"
   ]
  },
  {
   "cell_type": "code",
   "execution_count": null,
   "metadata": {},
   "outputs": [],
   "source": []
  }
 ],
 "metadata": {
  "kernelspec": {
   "display_name": "Python 3",
   "language": "python",
   "name": "python3"
  },
  "language_info": {
   "codemirror_mode": {
    "name": "ipython",
    "version": 3
   },
   "file_extension": ".py",
   "mimetype": "text/x-python",
   "name": "python",
   "nbconvert_exporter": "python",
   "pygments_lexer": "ipython3",
   "version": "3.6.5"
  }
 },
 "nbformat": 4,
 "nbformat_minor": 2
}
